{
 "cells": [
  {
   "cell_type": "code",
   "execution_count": 2,
   "id": "6401832a",
   "metadata": {},
   "outputs": [
    {
     "data": {
      "text/plain": [
       "False"
      ]
     },
     "execution_count": 2,
     "metadata": {},
     "output_type": "execute_result"
    }
   ],
   "source": [
    "# Question 1- What type of data are the following\n",
    "\n",
    "# 5 - integer number\n",
    "# 5.0 - float number\n",
    "5 > 1  # Bulean expression with numbers\n",
    "'5' # string\n",
    "5 * 2 # integer number\n",
    "'5' * 2 #  string\n",
    "'5' + '2' # string\n",
    "5 / 2 # float number\n",
    "5%2 # integer number\n",
    "{5, 3, 1} # Dictionary\n",
    "5 == 3 # Boolean\n",
    "#Pi - float number"
   ]
  },
  {
   "cell_type": "code",
   "execution_count": 22,
   "id": "1ac315d9",
   "metadata": {},
   "outputs": [
    {
     "name": "stdout",
     "output_type": "stream",
     "text": [
      "Supercalifragilisticexpialidocious has 34 letters\n",
      "yes sir\n",
      "a is the longest\n",
      "The first composer is Bartok\n",
      "The last compsoer isBuxtehude\n"
     ]
    }
   ],
   "source": [
    "# Question 2 - Write (and evaluate) python expressions that answer these questions:\n",
    "# a. How many letters are there in 'Supercalifragilisticexpialidocious'?\n",
    "# b. Does 'Supercalifragilisticexpialidocious' contain 'ice' as a substring?\n",
    "# c. Which of the following words is the longest: Supercalifragilisticexpialidocious, Honorificabilitudinitatibus, or Bababadalgharaghtakamminarronnkonn?\n",
    "#d. Which composer comes first in the dictionary: 'Berlioz', 'Borodin', 'Brian','Bartok', 'Bellini', 'Buxtehude', 'Bernstein'. Which one comes last?\n",
    "\n",
    "#a \n",
    "a = \"Supercalifragilisticexpialidocious\"\n",
    "\n",
    "print(a + ' has ' + str(len(a)) + ' letters')\n",
    "\n",
    "#b \n",
    "if \"ice\" in a:\n",
    "    print('yes sir')\n",
    "\n",
    "#c\n",
    "b = \"Honorificabilitudinitatibus\"\n",
    "c = 'Bababadalgharaghtakamminarronnkonn'\n",
    "\n",
    "if a > b:\n",
    "    if a > c:\n",
    "        print('a is the longest')\n",
    "    elif b > a:\n",
    "        if b > c:\n",
    "            print('b is the longest')\n",
    "    elif c > a:\n",
    "        if c > b:\n",
    "            print('c is the longest')\n",
    "#d\n",
    "Composer = {'Berlioz', 'Borodin', 'Brian','Bartok', 'Bellini', 'Buxtehude', 'Bernstein'}\n",
    "\n",
    "first = min(Composer)\n",
    "last = max(Composer)\n",
    "print( 'The first composer is ' + first)\n",
    "print( 'The last compsoer is' + last)"
   ]
  },
  {
   "cell_type": "code",
   "execution_count": 26,
   "id": "1fbef9eb",
   "metadata": {},
   "outputs": [
    {
     "data": {
      "text/plain": [
       "1.7320508075688772"
      ]
     },
     "execution_count": 26,
     "metadata": {},
     "output_type": "execute_result"
    }
   ],
   "source": [
    "#Implement function triangleArea(a,b,c) that takes as input the lengths of the 3\n",
    "#sides of a triangle and returns the area of the triangle. By Heron's formula, the area\n",
    "#of a triangle with side lengths a, b, and c is s(s - a)(s - b)(s - c) , where s = (a + b + c)/2\n",
    "import math\n",
    "def triangleArea(a,b,c):\n",
    "    s = (a + b + c) / 2\n",
    "    area = math.sqrt(s*(s-a)*(s-b)*(s-c))\n",
    "    return area\n",
    "\n",
    "triangleArea(2,2,2)\n"
   ]
  },
  {
   "cell_type": "code",
   "execution_count": 33,
   "id": "45a97a46",
   "metadata": {},
   "outputs": [
    {
     "name": "stdout",
     "output_type": "stream",
     "text": [
      "The even numbers are: 42, 56, 32 and the odd numbers are: 25, 47\n"
     ]
    }
   ],
   "source": [
    "# Write a program in python to separate odd and even integers in separate arrays. Go to the editor\n",
    "\n",
    "test = [25, 47, 42, 56, 32]\n",
    "\n",
    "def separate(a):\n",
    "    even=[]\n",
    "    odd =[]\n",
    "    for i in a:\n",
    "            if i % 2 == 0:\n",
    "                even.append(str(i))\n",
    "            else:\n",
    "                odd.append(str(i))\n",
    "    even_str = ', '.join(even)\n",
    "    odd_str = ', '.join(odd)\n",
    "    \n",
    "    print('The even numbers are: ' + even_str + ' and the odd numbers are: ' + odd_str)\n",
    "\n",
    "    \n",
    "separate(test)\n"
   ]
  },
  {
   "cell_type": "code",
   "execution_count": 39,
   "id": "7f66d7a6",
   "metadata": {},
   "outputs": [
    {
     "name": "stdout",
     "output_type": "stream",
     "text": [
      "True\n",
      "False\n",
      "False\n"
     ]
    }
   ],
   "source": [
    "#Write a function inside(x,y,x1,y1,x2,y2) that returns True or False\n",
    "#depending on whether the point (x,y) lies in the rectangle with lower left\n",
    "#corner (x1,y1) and upper right corner (x2,y2).\n",
    "\n",
    "def inside(x, y, x1, y1, x2, y2): #This was my first approach, but range seems to work only with integers\n",
    "    row = []\n",
    "    col = []\n",
    "    for i in range(x1, x2):\n",
    "        row.append(i)\n",
    "    for e in range(y1, y2):\n",
    "        col.append(e)\n",
    "    \n",
    "    if x in row and y in col:\n",
    "        \n",
    "        return True\n",
    "    else:\n",
    "        return False\n",
    "        \n",
    "        \n",
    "print(inside(1,1,0,0,2,3))        \n",
    "print(inside(-1,-1,0,0,2,3))\n",
    "\n",
    "\n",
    "#Use function inside() from part a. to write an expression that tests whether\n",
    "#the point (1,1) lies in both of the following rectangles: one with lower left\n",
    "#corner (0.3, 0.5) and upper right corner (1.1, 0.7) and the other with lower\n",
    "#left corner (0.5, 0.2) and upper right corner (1.1, 2).\n",
    "\n",
    "def inside1(x,y,x1,y1,x2,y2):\n",
    "    if x1 <= x <= x2 and y1 <= y <= y2:\n",
    "        return True\n",
    "    else:\n",
    "        return False\n",
    "    \n",
    "print(inside1(1,1,0.3,0.5,1.1,0.2)and inside1(1, 1, 0.5, 0.2, 1.1, 2))\n"
   ]
  },
  {
   "cell_type": "code",
   "execution_count": 47,
   "id": "489cff81",
   "metadata": {},
   "outputs": [
    {
     "name": "stdout",
     "output_type": "stream",
     "text": [
      "appyhay\n",
      "enterway\n"
     ]
    }
   ],
   "source": [
    "#You can turn a word into pig-Latin using the following two rules (simplified):\n",
    "# -If the word starts with a consonant, move that letter to the end and append\n",
    "#'ay'. For example, 'happy' becomes 'appyhay' and 'pencil' becomes 'encilpay'.\n",
    "# -If the word starts with a vowel, simply append 'way' to the end of the word.\n",
    "#For example, 'enter' becomes 'enterway' and 'other' becomes 'otherway' . For\n",
    "#our purposes, there are 5 vowels: a, e, i, o, u (so we count y as a consonant).\n",
    "#Write a function pig() that takes a word (i.e., a string) as input and returns its pig-\n",
    "#Latin form. Your function should still work if the input word contains upper case\n",
    "#characters. Your output should always be lower case however.\n",
    "\n",
    "\n",
    "def pig(y):\n",
    "    x = y.lower()\n",
    "    if x[0] == \"a\" or x[0] == \"e\" or x[0]==\"i\" or x[0] == \"o\" or x[0] == 'u':\n",
    "        new = x + 'way'\n",
    "        return new\n",
    "    else:\n",
    "        new1 = x[1:] + x[0] + 'ay'\n",
    "        return new1\n",
    "        \n",
    "print(pig('happy'))\n",
    "print(pig('Enter'))"
   ]
  },
  {
   "cell_type": "code",
   "execution_count": 56,
   "id": "1042ff9e",
   "metadata": {},
   "outputs": [
    {
     "name": "stdout",
     "output_type": "stream",
     "text": [
      "There are 13 patients with blood type: AB\n",
      "There are 1 patients with blood type: B\n",
      "There are 15 patients with blood type: O\n",
      "There are 15 patients with blood type: A\n"
     ]
    },
    {
     "data": {
      "text/plain": [
       "{'AB': 13, 'B': 1, 'O': 15, 'A': 15}"
      ]
     },
     "execution_count": 56,
     "metadata": {},
     "output_type": "execute_result"
    }
   ],
   "source": [
    "#File bloodtype1.txt records blood-types of patients (A, B, AB, O or OO) at a clinic.\n",
    "#Write a function bldcount() that reads the file with name name and reports (i.e.,\n",
    "#prints) how many patients there are in each bloodtype.\n",
    "\n",
    "blood = open('bloodtype1.txt', 'r')\n",
    "content = blood.read()\n",
    "words = content.split()\n",
    "blood.close()\n",
    "\n",
    "def bldcount(x):\n",
    "    types = {}\n",
    "    for w in words:\n",
    "        if w not in types:\n",
    "            types[w] = 1\n",
    "        else:\n",
    "            types[w] +=1\n",
    "    for w, count in types.items():\n",
    "       print(f\"There are {count} patients with blood type: {w}\")\n",
    "    return types\n",
    "    \n",
    "bldcount(word)"
   ]
  },
  {
   "cell_type": "code",
   "execution_count": 66,
   "id": "d715cf5c",
   "metadata": {},
   "outputs": [
    {
     "name": "stdout",
     "output_type": "stream",
     "text": [
      "For 100 of the currency EUR you will get 122.96544 dolars\n"
     ]
    }
   ],
   "source": [
    "#Write a function curconv() that takes as input:\n",
    "#1. a currency represented using a string (e.g., 'JPY' for the Japanese Yen or\n",
    "#'EUR' for the Euro)\n",
    "#2. an amount\n",
    "# and then converts and returns the amount in US dollars.\n",
    "\n",
    "\n",
    "def curconv(a, b, c):\n",
    "    dolars = str(b * c)\n",
    "    print('For ' + str(b) + ' of the currency ' + a + ' you will get ' + dolars + ' dolars')\n",
    "\n",
    "    \n",
    "curconv('EUR', 100, 1.2296544)"
   ]
  },
  {
   "cell_type": "code",
   "execution_count": 62,
   "id": "76fe6c1a",
   "metadata": {},
   "outputs": [
    {
     "name": "stdout",
     "output_type": "stream",
     "text": [
      "['AUD\\t1.0345157\\tAustralian Dollar\\n', 'CHF\\t1.0237414\\tSwiss Franc\\n', 'CNY\\t0.1550176\\tChinese Yuan\\n', 'DKK\\t0.1651442\\tDanish Krone\\n', 'EUR\\t1.2296544\\tEuro\\n', 'GBP\\t1.5550989\\tBritish Pound\\n', 'HKD\\t0.1270207\\tHong Kong Dollar\\n', 'INR\\t0.0177643\\tIndian Rupee\\n', 'JPY\\t0.01241401\\tJapanese Yen\\n', 'MXN\\t0.0751848\\tMexican Peso\\n', 'MYR\\t0.3145411\\tMalaysian Ringgit\\n', 'NOK\\t0.1677063\\tNorwegian Krone\\n', 'NZD\\t0.8003591\\tNew Zealand Dollar\\n', 'PHP\\t0.0233234\\tPhilippine Peso\\n', 'SEK\\t0.148269\\tSwedish Krona\\n', 'SGD\\t0.788871\\tSingapore Dollar\\n', 'THB\\t0.0313789\\tThai Baht']\n"
     ]
    }
   ],
   "source": [
    "# Each of the following will cause an exception (an error). Identify what type of exception each will cause.\n",
    "# Trying to add incompatible variables, as in\n",
    "\n",
    "# adding \n",
    "6 + ‘a’ #TypeError\n",
    "\n",
    "# Referring to the 12th item of a list that has only 10 - IndexError\n",
    "\n",
    "# Using a value that is out of range for a function’s input, such as calling math.sqrt(-1.0) - ValueError\n",
    "\n",
    "# Using an undeclared variable, such as print(x) when x has not been defined - NameError\n",
    "\n",
    "# Trying to open a file that does not exist, such as mistyping the file name or looking in the wrong directory. - FileNotFoundError"
   ]
  },
  {
   "cell_type": "code",
   "execution_count": 80,
   "id": "7648fcab",
   "metadata": {},
   "outputs": [
    {
     "data": {
      "text/plain": [
       "{84: 1,\n",
       " 104: 2,\n",
       " 101: 5,\n",
       " 113: 1,\n",
       " 117: 1,\n",
       " 105: 1,\n",
       " 99: 1,\n",
       " 107: 1,\n",
       " 114: 2,\n",
       " 100: 3,\n",
       " 102: 1,\n",
       " 111: 4,\n",
       " 120: 1,\n",
       " 103: 1,\n",
       " 116: 2,\n",
       " 98: 1,\n",
       " 97: 1,\n",
       " 110: 2,\n",
       " 119: 1,\n",
       " 109: 1}"
      ]
     },
     "execution_count": 80,
     "metadata": {},
     "output_type": "execute_result"
    }
   ],
   "source": [
    "#Encryption is the process of hiding the meaning of a text by substituting letters in the\n",
    "#message with other letters, according to some system. If the process is successful, no\n",
    "#one but the intended recipient can understand the encrypted message. Cryptanalysis\n",
    "#refers to attempts to undo the encryption, even if some details of the encryption are\n",
    "#unknown (for example, if an encrypted message has been intercepted). The first step\n",
    "#of cryptanalysis is often to build up a table of letter frequencies in the encrypted text.\n",
    "#Assume that the string letters is already defined as\n",
    "#'abcdefghijklmnopqrstuvwxyz'. Write a function called frequencies()\n",
    "#that takes a string as its only parameter, and returns a list of integers, showing the\n",
    "#number of times each character appears in the text. Your function may ignore any\n",
    "#characters that are not in letters.\n",
    "\n",
    "def frequencies(a):\n",
    "    letters ={}\n",
    "    for i in a:\n",
    "        if i in 'abcdefghijklmnñopqrstuvwxyz' or i in 'ABCDEFGHIJKLMNÑOPQRSTUVWXYZ': \n",
    "            if ord(i) not in letters:\n",
    "                letters[ord(i)] = 1\n",
    "            else:\n",
    "                letters[ord(i)] +=1\n",
    "        else:\n",
    "            continue\n",
    "    return letters\n",
    "\n",
    "frequencies('The quick red fox got bored and went home.')"
   ]
  },
  {
   "cell_type": "code",
   "execution_count": null,
   "id": "4186f0c3",
   "metadata": {},
   "outputs": [],
   "source": []
  }
 ],
 "metadata": {
  "kernelspec": {
   "display_name": "Python 3 (ipykernel)",
   "language": "python",
   "name": "python3"
  },
  "language_info": {
   "codemirror_mode": {
    "name": "ipython",
    "version": 3
   },
   "file_extension": ".py",
   "mimetype": "text/x-python",
   "name": "python",
   "nbconvert_exporter": "python",
   "pygments_lexer": "ipython3",
   "version": "3.11.4"
  }
 },
 "nbformat": 4,
 "nbformat_minor": 5
}
