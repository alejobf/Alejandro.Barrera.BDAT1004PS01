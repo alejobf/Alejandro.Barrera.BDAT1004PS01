{
 "cells": [
  {
   "cell_type": "markdown",
   "id": "d0c508e4",
   "metadata": {},
   "source": [
    "In a jupyter notebook solve the following question. Please upload the notebook to GitHub and provide the link submission box below.\n",
    "\n",
    " \n",
    "\n",
    "__int()__: Constructor that takes as input a pair of Point objects that represent the ends points of the line segment\n",
    "\n",
    "Length():: returns the length if the segment \n",
    "\n",
    "Slope() returns the slope of the segment of none if the slope is unbounded \n",
    "\n",
    " \n",
    "\n",
    ">>> p1 = Point(3,4)\n",
    "\n",
    ">>> p2 = Point()\n",
    "\n",
    ">>> s = Segment(p1,p2)\n",
    "\n",
    ">>> s.length()\n",
    "\n",
    "5.0\n",
    "\n",
    ">>> s.slope()\n",
    "\n",
    "0.75\n",
    "    "
   ]
  },
  {
   "cell_type": "code",
   "execution_count": 4,
   "id": "85ae9caf",
   "metadata": {},
   "outputs": [
    {
     "name": "stdout",
     "output_type": "stream",
     "text": [
      "5.0\n",
      "1.3333333333333333\n"
     ]
    }
   ],
   "source": [
    "import math\n",
    "\n",
    "class Point:\n",
    "    def __init__(self, x=0, y=0):\n",
    "        self.x = x\n",
    "        self.y = y\n",
    "\n",
    "class Segment(Point):\n",
    "    def __init__(self, a, b):\n",
    "        self.a = a\n",
    "        self.b = b\n",
    "    \n",
    "    def length(self):\n",
    "        return math.sqrt((self.a.x - self.b.x) ** 2 + (self.a.y - self.b.y) ** 2)\n",
    "    \n",
    "    def slope(self):\n",
    "    \n",
    "        return (self.a.y - self.b.y) / (self.a.x - self.b.x)\n",
    "\n",
    "p1 = Point(3, 4)\n",
    "p2 = Point()\n",
    "\n",
    "s = Segment(p1, p2)\n",
    "\n",
    "print(s.length())\n",
    "print(s.slope())\n",
    "\n",
    "\n",
    "        \n",
    "        \n",
    "    \n",
    "    "
   ]
  },
  {
   "cell_type": "markdown",
   "id": "9e94c27e",
   "metadata": {},
   "source": []
  },
  {
   "cell_type": "code",
   "execution_count": null,
   "id": "bb2794b3",
   "metadata": {},
   "outputs": [],
   "source": [
    "Second question"
   ]
  },
  {
   "cell_type": "code",
   "execution_count": 3,
   "id": "681a2f5f",
   "metadata": {},
   "outputs": [
    {
     "name": "stdout",
     "output_type": "stream",
     "text": [
      "The weather on 2015-01-04 was higher than the weather on 2015-01-02\n"
     ]
    }
   ],
   "source": [
    "#Python\n",
    "\n",
    "import pandas as pd\n",
    "\n",
    "\n",
    "df = pd.read_excel('data_exam.xlsx')\n",
    "\n",
    "def weather(data, date_x, date_y):\n",
    "    row_x = data.loc[data['recordDate'] == date_x].squeeze()\n",
    "    row_y = data.loc[data['recordDate'] == date_y].squeeze()\n",
    "    \n",
    "    if row_x['temperature'] > row_y['temperature']:\n",
    "        print(f'The weather on {date_x} was higher than the weather on {date_y}')\n",
    "    else:\n",
    "        print(f'The weather on {date_y} was higher than the weather on {date_x}')\n",
    "\n",
    "\n",
    "weather(df, '2015-01-04', '2015-01-02')\n"
   ]
  },
  {
   "cell_type": "code",
   "execution_count": 8,
   "id": "013db545",
   "metadata": {},
   "outputs": [
    {
     "name": "stdout",
     "output_type": "stream",
     "text": [
      "****\n",
      "  ***\n",
      "    **\n",
      "      *\n",
      "      *\n",
      "    **\n",
      "  ***\n",
      "****\n"
     ]
    }
   ],
   "source": [
    "def tough(indentation, times):\n",
    "    if times <= 0:\n",
    "        return\n",
    "    \n",
    "\n",
    "    print(' ' * indentation, end='')\n",
    "    \n",
    "\n",
    "    print('*' * times)\n",
    "    \n",
    "\n",
    "    tough(indentation + 2, times - 1)\n",
    "    \n",
    " \n",
    "    print(' ' * indentation, end='')\n",
    "    \n",
    "    \n",
    "    print('*' * times)\n",
    "\n",
    "\n",
    "tough(0, 4)\n"
   ]
  },
  {
   "cell_type": "code",
   "execution_count": null,
   "id": "f02d909b",
   "metadata": {},
   "outputs": [],
   "source": []
  }
 ],
 "metadata": {
  "kernelspec": {
   "display_name": "Python 3 (ipykernel)",
   "language": "python",
   "name": "python3"
  },
  "language_info": {
   "codemirror_mode": {
    "name": "ipython",
    "version": 3
   },
   "file_extension": ".py",
   "mimetype": "text/x-python",
   "name": "python",
   "nbconvert_exporter": "python",
   "pygments_lexer": "ipython3",
   "version": "3.11.5"
  }
 },
 "nbformat": 4,
 "nbformat_minor": 5
}
